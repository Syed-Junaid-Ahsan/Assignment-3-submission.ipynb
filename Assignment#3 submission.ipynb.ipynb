{
 "cells": [
  {
   "cell_type": "code",
   "execution_count": 1,
   "id": "70e231f1",
   "metadata": {},
   "outputs": [
    {
     "name": "stdout",
     "output_type": "stream",
     "text": [
      "Twinkle, Twinkle, little star,\n",
      "\tHow i wonder what you are!\n",
      "\t\tUp above the world so high,\n",
      "\t\tLike a diamond in the sky.\n",
      "Twinkle, Twinkle, little star,\n",
      "\tHow i wonder what you are\n"
     ]
    }
   ],
   "source": [
    "\n",
    "# Q1: Write a Python program to print the following string in a specific format (see the\n",
    "#     output).\n",
    "\n",
    "# Twinkle, twinkle, little star,\n",
    "#         How I wonder what you are!\n",
    "#                Up above the world so high,\n",
    "#                Like a diamond in the sky.\n",
    "\n",
    "# Twinkle, twinkle, little star,\n",
    "#         How I wonder what you are\n",
    "\n",
    "print('Twinkle, Twinkle, little star,\\n\\tHow i wonder what you are!\\n\\t\\tUp above the world so high,\\n\\t\\tLike a diamond in the sky.\\nTwinkle, Twinkle, little star,\\n\\tHow i wonder what you are')\n"
   ]
  },
  {
   "cell_type": "code",
   "execution_count": 5,
   "id": "113c9e9a",
   "metadata": {},
   "outputs": [
    {
     "name": "stdout",
     "output_type": "stream",
     "text": [
      "Your python version is:\n",
      "3.8.8 (default, Apr 13 2021, 15:08:03) [MSC v.1916 64 bit (AMD64)]\n",
      "\n",
      "\n",
      "The Version is:\n",
      "sys.version_info(major=3, minor=8, micro=8, releaselevel='final', serial=0)\n"
     ]
    }
   ],
   "source": [
    "# Q2: Write a Python program to get the Python version you are using\n",
    "\n",
    "import sys\n",
    "print(\"Your python version is:\")\n",
    "print (sys.version)\n",
    "print(\"\\n\\nThe Version is:\")\n",
    "print (sys.version_info)"
   ]
  },
  {
   "cell_type": "code",
   "execution_count": 6,
   "id": "55266743",
   "metadata": {},
   "outputs": [
    {
     "name": "stdout",
     "output_type": "stream",
     "text": [
      "2021-10-23 14:17:28.416478\n"
     ]
    }
   ],
   "source": [
    "# Q3: Write a Python program to display the current date and time.\n",
    "\n",
    "from datetime import datetime\n",
    "print(datetime.now())"
   ]
  },
  {
   "cell_type": "code",
   "execution_count": 8,
   "id": "c491bea8",
   "metadata": {},
   "outputs": [
    {
     "name": "stdout",
     "output_type": "stream",
     "text": [
      "Enter The Radius Of The Circle : 22.5\n",
      "The Area Of The Circle Is =  1589.625\n"
     ]
    }
   ],
   "source": [
    "# Q4: Write a Python program which accepts the radius of a circle from the user and compute\n",
    "#     the area.\n",
    "\n",
    "r=float(input(\"Enter The Radius Of The Circle : \"))\n",
    "pi=3.14\n",
    "a=pi*r**2\n",
    "print(\"The Area Of The Circle Is = \",a)"
   ]
  },
  {
   "cell_type": "code",
   "execution_count": 26,
   "id": "2e404356",
   "metadata": {},
   "outputs": [
    {
     "name": "stdout",
     "output_type": "stream",
     "text": [
      "Enter your first name:Junaid\n",
      "Enter your last name:Ahsan\n",
      "dianuJ   nashA\n"
     ]
    }
   ],
   "source": [
    "# Q5: Write a Python program which accepts the user's first and last name and print them in\n",
    "#     reverse order with a space between them.\n",
    "\n",
    "f_name=str(input(\"Enter your first name:\"))\n",
    "l_name=str(input(\"Enter your last name:\"))\n",
    "a=f_name[::-1]\n",
    "b=l_name[::-1]\n",
    "print(a,\" \",b)"
   ]
  },
  {
   "cell_type": "code",
   "execution_count": 25,
   "id": "f5d1c3c7",
   "metadata": {},
   "outputs": [
    {
     "name": "stdout",
     "output_type": "stream",
     "text": [
      "Enter first number: 7.6\n",
      "Enter second number: 38.2\n",
      "45.800000000000004\n"
     ]
    }
   ],
   "source": [
    "# Q6: Write a python program which takes two inputs from user and print them addition\n",
    "\n",
    "a=float(input('Enter first number: '))\n",
    "b=float(input('Enter second number: '))\n",
    "\n",
    "print(a+b)"
   ]
  },
  {
   "cell_type": "code",
   "execution_count": 23,
   "id": "e98bf7bf",
   "metadata": {},
   "outputs": [
    {
     "name": "stdout",
     "output_type": "stream",
     "text": [
      "Enter your Statistics marks;72.5\n",
      "Enter your Calculus marks;80\n",
      "Enter your Islamiat marks;78.5\n",
      "Enter your Urdu marks;68\n",
      "Enter your English marks;72\n",
      "Your percentage is 74.2 %\n",
      "Your Grade is A\n"
     ]
    }
   ],
   "source": [
    "# Q7: Write a program which takes 5 inputs from user for different subject’s marks, total it\n",
    "#     and generate mark sheet using grades ?\n",
    "\n",
    "a=float(input(\"Enter your Statistics marks;\"))\n",
    "b=float(input(\"Enter your Calculus marks;\"))\n",
    "c=float(input(\"Enter your Islamiat marks;\"))\n",
    "d=float(input(\"Enter your Urdu marks;\"))\n",
    "e=float(input(\"Enter your English marks;\"))\n",
    "\n",
    "total = 500                          #total marks\n",
    "p = ((a+b+c+d+e)*100)/total          #calculate percentage\n",
    "print('Your percentage is', p, '%')\n",
    "\n",
    "if p > 80 and p <= 99 :\n",
    "    print(\"Congragulations! Your Grade is A+\")\n",
    "elif p > 70 and p <= 80:\n",
    "    print(\"Your Grade is A\")\n",
    "elif p > 60 and p <= 70:\n",
    "    print(\"Your Grade is B\")\n",
    "elif p > 50 and p <= 60:  \n",
    "    print(\"Your Grade is C\")\n",
    "elif p > 40 and p <= 50:\n",
    "    print(\"Your Grade is D\")\n",
    "else:\n",
    "    print(\"You Are Fail\")\n"
   ]
  },
  {
   "cell_type": "code",
   "execution_count": 16,
   "id": "f0ebee37",
   "metadata": {},
   "outputs": [
    {
     "name": "stdout",
     "output_type": "stream",
     "text": [
      "Enter a number:7\n",
      "Odd number\n"
     ]
    }
   ],
   "source": [
    "# Q8: Write a program which take input from user and identify that the given number is even\n",
    "#     or odd?\n",
    "\n",
    "n=int(input(\"Enter a number:\"))\n",
    "r=n%2\n",
    "if (r == 0):\n",
    "    print(\"Even Number\")\n",
    "else:\n",
    "    print(\"Odd number\")"
   ]
  },
  {
   "cell_type": "code",
   "execution_count": 17,
   "id": "033a3fea",
   "metadata": {},
   "outputs": [
    {
     "name": "stdout",
     "output_type": "stream",
     "text": [
      "8\n"
     ]
    }
   ],
   "source": [
    "# Q9: Write a program which print the length of the list?\n",
    "\n",
    "l=[4,2,53,4,73,6,8,97]\n",
    "print(len(l))"
   ]
  },
  {
   "cell_type": "code",
   "execution_count": 28,
   "id": "f27dbb91",
   "metadata": {},
   "outputs": [
    {
     "name": "stdout",
     "output_type": "stream",
     "text": [
      "Sum : 232\n"
     ]
    }
   ],
   "source": [
    "# Q10: Write a Python program to sum all the numeric items in a list?\n",
    "\n",
    "a = [1, 1, 2, 3, 5, 8, 13, 21, 34, 55, 89]\n",
    "print('Sum :', sum(a))"
   ]
  },
  {
   "cell_type": "code",
   "execution_count": 85,
   "id": "112dbad2",
   "metadata": {},
   "outputs": [
    {
     "name": "stdout",
     "output_type": "stream",
     "text": [
      "1081\n"
     ]
    }
   ],
   "source": [
    "# Q11: Write a Python program to get the largest number from a numeric list.\n",
    "\n",
    "a = [2, 5, 8, 1081, 13, 1, 21, 34, 55, 89, 1080]\n",
    "# print(max(a))\n",
    "for i in a:\n",
    "    for j in a:\n",
    "        if j>i:\n",
    "            l=j\n",
    "print(l)\n",
    "        "
   ]
  },
  {
   "cell_type": "code",
   "execution_count": 86,
   "id": "4b4ea68e",
   "metadata": {},
   "outputs": [
    {
     "name": "stdout",
     "output_type": "stream",
     "text": [
      "1\n",
      "1\n",
      "2\n",
      "3\n"
     ]
    }
   ],
   "source": [
    "# Q12: Take a list, say for example this one:\n",
    "#      a = [1, 1, 2, 3, 5, 8, 13, 21, 34, 55, 89]\n",
    "#      Write a program that prints out all the elements of the list that are less than 5.\n",
    "\n",
    "a = [1, 1, 2, 3, 5, 8, 13, 21, 34, 55, 89]\n",
    "for i in a:\n",
    "    if i < 5:\n",
    "        print(i)"
   ]
  },
  {
   "cell_type": "code",
   "execution_count": 69,
   "id": "cc8e600e",
   "metadata": {
    "scrolled": true
   },
   "outputs": [],
   "source": []
  },
  {
   "cell_type": "code",
   "execution_count": null,
   "id": "66cb753e",
   "metadata": {},
   "outputs": [],
   "source": []
  }
 ],
 "metadata": {
  "kernelspec": {
   "display_name": "Python 3",
   "language": "python",
   "name": "python3"
  },
  "language_info": {
   "codemirror_mode": {
    "name": "ipython",
    "version": 3
   },
   "file_extension": ".py",
   "mimetype": "text/x-python",
   "name": "python",
   "nbconvert_exporter": "python",
   "pygments_lexer": "ipython3",
   "version": "3.8.8"
  }
 },
 "nbformat": 4,
 "nbformat_minor": 5
}
